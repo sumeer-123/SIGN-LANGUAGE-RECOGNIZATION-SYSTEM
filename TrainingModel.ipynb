{
 "cells": [
  {
   "cell_type": "markdown",
   "metadata": {},
   "source": [
    "# Training Model for Sign Language Classification and Recognition 💡💡\n",
    "-----------------------------------------------------------------------------------------\n",
    "-----------------------------------------------------------------------------------------"
   ]
  },
  {
   "cell_type": "code",
   "execution_count": 1,
   "metadata": {},
   "outputs": [],
   "source": [
    "import tensorflow as tf\n",
    "from tensorflow.keras import datasets, layers, models\n",
    "import seaborn as sns\n",
    "import keras\n",
    "from keras.models import Sequential\n",
    "from keras.layers import Dense, Conv2D , MaxPool2D , Flatten , Dropout \n",
    "from keras.preprocessing.image import ImageDataGenerator\n",
    "from tensorflow.keras.optimizers import Adam\n",
    "import numpy as np"
   ]
  },
  {
   "cell_type": "code",
   "execution_count": 2,
   "metadata": {},
   "outputs": [],
   "source": [
    "# lOADING DATASET\n",
    "dataset = np.load('signLanguage-Dataset-Alpha.npy')"
   ]
  },
  {
   "cell_type": "code",
   "execution_count": 3,
   "metadata": {},
   "outputs": [],
   "source": [
    "# Labels mapping to indices\n",
    "labels = ['A','B','C','D','E','F','G','H','I','J','K','L','M','N','O','P','Q','R','S','T','U','V','W','X','Y','Z','SPACE','BACKSPACE','NEXT']"
   ]
  },
  {
   "cell_type": "code",
   "execution_count": 4,
   "metadata": {},
   "outputs": [
    {
     "data": {
      "text/plain": [
       "(array([ 0,  1,  2,  3,  4,  5,  6,  7,  8, 10, 11, 12, 13, 14, 15, 16, 17,\n",
       "        18, 19, 20, 21, 22, 23, 24]),\n",
       " array([ 15,  15,  16,  18,  18,  26,  27,  20,  35,  23,  25,  45,  53,\n",
       "        113, 141,  89, 131,  89,  83, 134,  94, 151,  89, 176], dtype=int64))"
      ]
     },
     "execution_count": 4,
     "metadata": {},
     "output_type": "execute_result"
    }
   ],
   "source": [
    "# Dividing the dataset into imagearray and respective labels\n",
    "X = dataset[:, :-1]\n",
    "y = dataset[:, -1]\n",
    "np.unique(y,return_counts = True)"
   ]
  },
  {
   "cell_type": "code",
   "execution_count": 5,
   "metadata": {},
   "outputs": [],
   "source": [
    "# Normalizing data to values between 0-1\n",
    "X_train = X.reshape(X.shape[0], 300, 300, 1)\n",
    "X_train = X_train.astype('float32')\n",
    "X_train/=255"
   ]
  },
  {
   "cell_type": "code",
   "execution_count": 6,
   "metadata": {},
   "outputs": [],
   "source": [
    "# Building Model\n",
    "\n",
    "model = keras.Sequential([\n",
    "    keras.layers.Flatten(),\n",
    "    keras.layers.Dense(380, activation='relu'),\n",
    "    keras.layers.Dense(200, activation='relu'),\n",
    "    keras.layers.Dense(29, activation='softmax')\n",
    "])\n",
    "\n",
    "model.compile(optimizer='adam', \n",
    "             loss=keras.losses.SparseCategoricalCrossentropy(),\n",
    "             metrics=['accuracy'])"
   ]
  },
  {
   "cell_type": "code",
   "execution_count": 7,
   "metadata": {},
   "outputs": [
    {
     "name": "stdout",
     "output_type": "stream",
     "text": [
      "Epoch 1/5\n",
      "51/51 [==============================] - 11s 176ms/step - loss: 0.4215 - accuracy: 0.8918\n",
      "Epoch 2/5\n",
      "51/51 [==============================] - 8s 165ms/step - loss: 0.0052 - accuracy: 0.9988\n",
      "Epoch 3/5\n",
      "51/51 [==============================] - 8s 164ms/step - loss: 2.5724e-04 - accuracy: 1.0000\n",
      "Epoch 4/5\n",
      "51/51 [==============================] - 8s 165ms/step - loss: 7.9350e-05 - accuracy: 1.0000\n",
      "Epoch 5/5\n",
      "51/51 [==============================] - 8s 165ms/step - loss: 6.0943e-05 - accuracy: 1.0000\n"
     ]
    },
    {
     "data": {
      "text/plain": [
       "<keras.callbacks.History at 0x227ddbd71f0>"
      ]
     },
     "execution_count": 7,
     "metadata": {},
     "output_type": "execute_result"
    }
   ],
   "source": [
    "# Fitting Data into Model\n",
    "\n",
    "model.fit(X_train, y, epochs=5, batch_size=32) #32 IMAGES ARE SUPPLIED TO MODEL AT EACH TIME,EPOCHES IS HOW MANY TIMES WE HAVE TO TRAIN OUR DATA\n",
    "              "
   ]
  },
  {
   "cell_type": "code",
   "execution_count": 8,
   "metadata": {},
   "outputs": [],
   "source": [
    "testData = np.load('signLanguage-Dataset.npy')\n",
    "np.random.shuffle(testData)"
   ]
  },
  {
   "cell_type": "code",
   "execution_count": 9,
   "metadata": {},
   "outputs": [
    {
     "data": {
      "text/plain": [
       "array([[ 0,  0,  0, ...,  0,  0, 27],\n",
       "       [ 0,  0,  0, ...,  0,  0, 15],\n",
       "       [ 0,  0,  0, ...,  0,  0, 10],\n",
       "       ...,\n",
       "       [ 0,  0,  0, ...,  0,  0, 16],\n",
       "       [ 0,  0,  0, ...,  0,  0, 18],\n",
       "       [ 0,  0,  0, ...,  0,  0, 17]])"
      ]
     },
     "execution_count": 9,
     "metadata": {},
     "output_type": "execute_result"
    }
   ],
   "source": [
    "testData"
   ]
  },
  {
   "cell_type": "code",
   "execution_count": 10,
   "metadata": {},
   "outputs": [],
   "source": [
    "X_test = testData[:200, :-1]\n",
    "y_test = testData[:200, -1]"
   ]
  },
  {
   "cell_type": "code",
   "execution_count": 11,
   "metadata": {},
   "outputs": [
    {
     "name": "stdout",
     "output_type": "stream",
     "text": [
      "(200, 90000)\n",
      "(200,)\n"
     ]
    }
   ],
   "source": [
    "print(X_test.shape)\n",
    "print(y_test.shape)"
   ]
  },
  {
   "cell_type": "code",
   "execution_count": 12,
   "metadata": {},
   "outputs": [],
   "source": [
    "# Normalizing data to values between 0-1\n",
    "X_test = X_test.reshape(X_test.shape[0], 300, 300, 1)\n",
    "X_test = X_test.astype('float32')\n",
    "X_test/=255"
   ]
  },
  {
   "cell_type": "code",
   "execution_count": 13,
   "metadata": {},
   "outputs": [
    {
     "name": "stdout",
     "output_type": "stream",
     "text": [
      "7/7 [==============================] - 1s 21ms/step - loss: 0.7533 - accuracy: 0.9400\n"
     ]
    },
    {
     "data": {
      "text/plain": [
       "[0.7532983422279358, 0.9399999976158142]"
      ]
     },
     "execution_count": 13,
     "metadata": {},
     "output_type": "execute_result"
    }
   ],
   "source": [
    "model.evaluate(X_test, y_test)"
   ]
  },
  {
   "cell_type": "code",
   "execution_count": 14,
   "metadata": {},
   "outputs": [
    {
     "data": {
      "text/plain": [
       "array([24, 15, 10, 23, 15, 23, 23,  6, 24, 24, 20, 24, 14, 14,  1, 17, 15,\n",
       "       18, 13, 17, 16, 24, 15, 13,  4, 23, 18, 23, 18, 18, 18, 19, 18, 18,\n",
       "       18,  2, 14, 23, 13, 24, 14, 18, 15, 19,  7, 20, 18, 24, 19, 23, 11,\n",
       "       24, 20, 24, 16, 12, 14, 24, 13, 17,  5, 24, 21, 21,  6, 22, 14, 12,\n",
       "       20, 15,  2, 17, 20, 15, 20, 15, 17, 18, 20, 24, 24,  0, 21, 24, 14,\n",
       "       21, 18, 15, 22, 13, 15, 22, 19, 24, 18, 14, 14,  3, 20, 19, 14, 24,\n",
       "       18, 19, 16, 10, 16,  1, 18,  5, 24, 23, 24, 22, 24, 20, 18, 16, 18,\n",
       "       22, 17, 24, 24, 22, 19, 23, 20,  8, 14, 24, 14, 13, 21, 23, 17, 21,\n",
       "       18, 22, 20,  5, 16, 24, 22, 17, 11, 23, 15, 12, 24, 24, 19,  3, 18,\n",
       "        1, 14, 17, 22, 15, 19,  0, 17, 19, 24, 16, 12, 16, 11, 17,  5, 24,\n",
       "       14, 18, 15, 24, 15, 13, 13, 16, 17,  6, 17, 15, 15, 17, 17, 20, 20,\n",
       "       22, 17, 17, 14, 18, 24, 22,  8, 15, 17, 20, 16,  2], dtype=int64)"
      ]
     },
     "execution_count": 14,
     "metadata": {},
     "output_type": "execute_result"
    }
   ],
   "source": [
    "predicted = model.predict(X_test)\n",
    "np.argmax(predicted, axis=1)"
   ]
  },
  {
   "cell_type": "code",
   "execution_count": 15,
   "metadata": {},
   "outputs": [
    {
     "data": {
      "text/plain": [
       "array([27, 15, 10, 23, 15, 23, 23,  6, 24, 24, 20, 24, 14, 14,  1, 17, 15,\n",
       "       18, 13, 17, 16, 24, 15, 13,  4, 23, 18, 23, 18, 28, 28, 19, 18, 18,\n",
       "       18,  2, 14, 23, 13, 24, 14, 26, 15, 19,  7, 20, 18, 24, 19, 23, 11,\n",
       "       24, 20, 24, 16, 12, 14, 24, 13, 17,  5, 24, 21, 21,  6, 22, 14, 12,\n",
       "       20, 15,  2, 17, 20, 15, 20, 15, 17, 18, 20, 27, 24,  0, 21, 24, 14,\n",
       "       21, 18, 15, 22, 13, 15, 22, 19, 26, 28, 14, 14,  3, 20, 19, 14, 24,\n",
       "       18, 19, 16, 10, 16,  1, 18,  5, 24, 23, 24, 22, 24, 20, 18, 16, 28,\n",
       "       22, 17, 24, 24, 22, 19, 23, 20,  8, 14, 24, 14, 13, 21, 23, 17, 21,\n",
       "       18, 22, 20,  5, 16, 24, 22, 17, 11, 23, 15, 12, 26, 26, 19,  3, 18,\n",
       "        1, 14, 17, 22, 15, 19,  0, 17, 19, 24, 16, 12, 16, 11, 17,  5, 24,\n",
       "       14, 18, 15, 26, 15, 13, 13, 16, 17,  6, 17, 15, 15, 17, 17, 20, 20,\n",
       "       22, 17, 17, 14, 27, 24, 22,  8, 15, 17, 20, 16,  2])"
      ]
     },
     "execution_count": 15,
     "metadata": {},
     "output_type": "execute_result"
    }
   ],
   "source": [
    "y_test"
   ]
  },
  {
   "cell_type": "code",
   "execution_count": 16,
   "metadata": {},
   "outputs": [
    {
     "data": {
      "text/plain": [
       "(1, 300, 300, 1)"
      ]
     },
     "execution_count": 16,
     "metadata": {},
     "output_type": "execute_result"
    }
   ],
   "source": [
    "X_test[0:1, :, :,:].shape"
   ]
  },
  {
   "cell_type": "code",
   "execution_count": 17,
   "metadata": {},
   "outputs": [],
   "source": [
    "pred = model.predict(X_test[0:1, : , : , : ])\n",
    "pred = np.argmax(pred, axis=1)\n",
    "pred = labels[pred[0]]"
   ]
  },
  {
   "cell_type": "code",
   "execution_count": 18,
   "metadata": {},
   "outputs": [],
   "source": [
    "ImagesCaptured = np.empty(shape=(1,300,300,1), dtype=np.uint8)"
   ]
  },
  {
   "cell_type": "code",
   "execution_count": 19,
   "metadata": {},
   "outputs": [],
   "source": [
    "lapse = 0\n",
    "prevPred = 'A'"
   ]
  },
  {
   "cell_type": "code",
   "execution_count": 20,
   "metadata": {},
   "outputs": [],
   "source": [
    "def getPred(img):\n",
    "    global lapse\n",
    "    global prevPred\n",
    "    if(lapse>5):\n",
    "        lapse = 0 \n",
    "        pred = model.predict(img)\n",
    "        pred = np.argmax(pred, axis=1)\n",
    "        pred = labels[pred[0]]\n",
    "        prevPred = pred\n",
    "        \n",
    "        return pred\n",
    "    else:\n",
    "        lapse+=1\n",
    "        return prevPred"
   ]
  },
  {
   "cell_type": "code",
   "execution_count": 21,
   "metadata": {},
   "outputs": [],
   "source": [
    "import mediapipe as mp\n",
    "import cv2\n",
    "import numpy as np\n",
    "import uuid\n",
    "import os\n",
    "import matplotlib.pyplot as plt\n",
    "import pandas as pd"
   ]
  },
  {
   "cell_type": "code",
   "execution_count": 22,
   "metadata": {},
   "outputs": [],
   "source": [
    "mp_drawing = mp.solutions.drawing_utils\n",
    "mp_hands = mp.solutions.hands"
   ]
  },
  {
   "cell_type": "code",
   "execution_count": 24,
   "metadata": {},
   "outputs": [],
   "source": [
    "cap = cv2.VideoCapture(0)\n",
    "\n",
    "with mp_hands.Hands(min_detection_confidence=0.8, min_tracking_confidence=0.5) as hands:\n",
    "    while cap.isOpened():\n",
    "\n",
    "        ret, frame = cap.read()\n",
    "        \n",
    "        #BGR to RGB\n",
    "        image = cv2.cvtColor(frame, cv2.COLOR_BGR2RGB)\n",
    "        \n",
    "        # Set flag to False\n",
    "        image.flags.writeable = False\n",
    "        \n",
    "        # Detections\n",
    "        results = hands.process(image)\n",
    "        \n",
    "        # Set flag to True\n",
    "        image.flags.writeable = True\n",
    "        \n",
    "        # RGB to BGR\n",
    "        image = cv2.cvtColor(image, cv2.COLOR_RGB2BGR)\n",
    "        \n",
    "        img = np.zeros((image.shape[0], image.shape[1], 3), dtype=np.uint8)    \n",
    "        if results.multi_hand_landmarks:\n",
    "            for num, hand in enumerate(results.multi_hand_landmarks):\n",
    "                x = [landmark.x for landmark in hand.landmark]\n",
    "                y = [landmark.y for landmark in hand.landmark]\n",
    "\n",
    "                center = np.array([np.mean(x)*image.shape[1], np.mean(y)*image.shape[0]]).astype('int32')\n",
    "                start_point = (center[0]-150,center[1]-150)\n",
    "                end_point = (center[0]+150,center[1]+150)\n",
    "                \n",
    "                width = end_point[0] - start_point[0]\n",
    "                height = end_point[1] - start_point[1]\n",
    "\n",
    "                cv2.circle(image, tuple(center), 10, (255,0,0), 1)  #for checking the center \n",
    "                cv2.rectangle(image, (center[0]-150,center[1]-150), (center[0]+150,center[1]+150), (255,0,0), 1)\n",
    "               \n",
    "                \n",
    "                mp_drawing.draw_landmarks(image, hand, mp_hands.HAND_CONNECTIONS, mp_drawing.DrawingSpec(color=(121,22,76), thickness=2, circle_radius=4),\n",
    "                                         mp_drawing.DrawingSpec(color=(121,44,250), thickness=2, circle_radius=4)\n",
    "                                         )\n",
    "                mp_drawing.draw_landmarks(img, hand, mp_hands.HAND_CONNECTIONS, mp_drawing.DrawingSpec(color=(255,0,0), thickness=2, circle_radius=4),\n",
    "                                         mp_drawing.DrawingSpec(color=(0,255,0), thickness=2, circle_radius=4)\n",
    "                                         )\n",
    "                img = img[start_point[1]:end_point[1],start_point[0]:end_point[0],:]\n",
    "     \n",
    "    \n",
    "        if(img.shape==(300,300,3)):\n",
    "            global ImagesCaptured\n",
    "            gray = cv2.cvtColor(img, cv2.COLOR_BGR2GRAY)\n",
    "            gray = gray.reshape(300, 300, 1)\n",
    "            gray = gray.astype('float32')\n",
    "            gray/=255\n",
    "            \n",
    "            ImagesCaptured = np.append(ImagesCaptured , [gray] , axis=0)\n",
    "            out = getPred(ImagesCaptured[len(ImagesCaptured)-1:len(ImagesCaptured), :, :, :])\n",
    "            font = cv2.FONT_HERSHEY_SIMPLEX\n",
    "            org = (50, 50)\n",
    "            fontScale = 1\n",
    "            color = (255, 0, 0)\n",
    "            thickness = 2\n",
    "            image = cv2.putText(image, out, org, font, \n",
    "                   fontScale, color, thickness, cv2.LINE_AA)\n",
    "#             cv2.waitKey(10)\n",
    "        \n",
    "        cv2.imshow('Hand Tracking', image)\n",
    "        k = cv2.waitKey(10)\n",
    "    \n",
    "        if k == ord('q'):\n",
    "            break\n",
    "            \n",
    "cap.release()\n",
    "cv2.destroyAllWindows()"
   ]
  },
  {
   "cell_type": "code",
   "execution_count": null,
   "metadata": {},
   "outputs": [],
   "source": []
  },
  {
   "cell_type": "code",
   "execution_count": null,
   "metadata": {},
   "outputs": [],
   "source": []
  },
  {
   "cell_type": "code",
   "execution_count": null,
   "metadata": {},
   "outputs": [],
   "source": []
  }
 ],
 "metadata": {
  "kernelspec": {
   "display_name": "Python 3",
   "language": "python",
   "name": "python3"
  },
  "language_info": {
   "codemirror_mode": {
    "name": "ipython",
    "version": 3
   },
   "file_extension": ".py",
   "mimetype": "text/x-python",
   "name": "python",
   "nbconvert_exporter": "python",
   "pygments_lexer": "ipython3",
   "version": "3.8.5"
  }
 },
 "nbformat": 4,
 "nbformat_minor": 4
}
